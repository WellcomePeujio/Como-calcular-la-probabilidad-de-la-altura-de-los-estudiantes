{
  "nbformat": 4,
  "nbformat_minor": 0,
  "metadata": {
    "colab": {
      "private_outputs": true,
      "provenance": [],
      "authorship_tag": "ABX9TyOnJ871RwVXxt3b7VveP/ek",
      "include_colab_link": true
    },
    "kernelspec": {
      "name": "python3",
      "display_name": "Python 3"
    },
    "language_info": {
      "name": "python"
    }
  },
  "cells": [
    {
      "cell_type": "markdown",
      "metadata": {
        "id": "view-in-github",
        "colab_type": "text"
      },
      "source": [
        "<a href=\"https://colab.research.google.com/github/WellcomePeujio/Como-calcular-la-probabilidad-de-la-altura-de-los-estudiantes/blob/main/Distribuci%C3%B3nNormalProbabilidad.ipynb\" target=\"_parent\"><img src=\"https://colab.research.google.com/assets/colab-badge.svg\" alt=\"Open In Colab\"/></a>"
      ]
    },
    {
      "cell_type": "markdown",
      "source": [
        "# Distribución Normal y Probabilidad\n",
        "\n",
        "\n",
        "La altura de los estudiantes en una universidad sigue una distribución normal con una media de 170 cm y una desviación estándar de 10 cm.\n",
        "\n",
        "## Preguntas:\n",
        "\n",
        "1. **¿Cuál es la probabilidad de que un estudiante seleccionado al azar mida más de 180 cm?**\n",
        "\n",
        "2. **Calcula el porcentaje de estudiantes que miden entre 160 cm y 180 cm.**"
      ],
      "metadata": {
        "id": "1p6WmJscq3xx"
      }
    },
    {
      "cell_type": "markdown",
      "source": [
        "# Resolución Matemática\n",
        "\n",
        "## Datos del Problema\n",
        "\n",
        "- **Media (μ):** 170 cm\n",
        "- **Desviación estándar (σ):** 10 cm\n",
        "\n",
        "La altura de los estudiantes sigue una **distribución normal**.\n",
        "\n",
        "## 1. Cálculo de la Probabilidad de que un Estudiante Mida más de 180 cm\n",
        "\n",
        "Para calcular esta probabilidad, necesitamos estandarizar el valor de 180 cm utilizando la fórmula del **valor Z**:\n",
        "\n",
        "$$\n",
        "Z = \\frac{X - \\mu}{\\sigma}\n",
        "$$\n",
        "\n",
        "Donde:\n",
        "- \\( X \\) es la altura que queremos evaluar (180 cm en este caso).\n",
        "- \\$( \\mu \\$) es la media.\n",
        "- \\$( \\sigma \\$) es la desviación estándar.\n",
        "\n",
        "Sustituyendo los valores:\n",
        "\n",
        "$$\n",
        "Z = \\frac{180 - 170}{10} = \\frac{10}{10} = 1\n",
        "$$\n",
        "\n",
        "La probabilidad de que un estudiante mida más de 180 cm es igual a la probabilidad de que \\( Z \\) sea mayor que 1. Esto se calcula utilizando la tabla de distribución normal estándar o un software estadístico.\n",
        "\n",
        "La probabilidad asociada a \\( Z = 1 \\) es:\n",
        "\n",
        "$$\n",
        "P(Z > 1) = 1 - P(Z \\leq 1)\n",
        "$$\n",
        "\n",
        "Usando una tabla Z:\n",
        "\n",
        "$$\n",
        "P(Z \\leq 1) \\approx 0.8413\n",
        "$$\n",
        "\n",
        "Por lo tanto:\n",
        "\n",
        "$$\n",
        "P(Z > 1) = 1 - 0.8413 = 0.1587\n",
        "$$\n",
        "\n",
        "Entonces, la probabilidad de que un estudiante mida más de 180 cm es **0.1587** o **15.87%**.\n",
        "\n",
        "## 2. Cálculo del Porcentaje de Estudiantes que Miden entre 160 cm y 180 cm\n",
        "\n",
        "Para encontrar este porcentaje, calculamos la probabilidad de que la altura esté entre 160 cm y 180 cm. Esto corresponde a encontrar la diferencia entre las probabilidades de \\( Z \\) para 160 cm y 180 cm.\n",
        "\n",
        "Primero, estandarizamos 160 cm:\n",
        "\n",
        "$$\n",
        "Z = \\frac{160 - 170}{10} = \\frac{-10}{10} = -1\n",
        "$$\n",
        "\n",
        "Ya tenemos \\( Z = 1 \\) para 180 cm.\n",
        "\n",
        "La probabilidad asociada a \\( Z = -1 \\) es:\n",
        "\n",
        "$$\n",
        "P(Z \\leq -1) \\approx 0.1587\n",
        "$$\n",
        "\n",
        "La probabilidad de que la altura esté entre 160 cm y 180 cm es:\n",
        "\n",
        "$$\n",
        "P(160 \\leq X \\leq 180) = P(Z \\leq 1) - P(Z \\leq -1)\n",
        "$$\n",
        "\n",
        "Sustituyendo los valores:\n",
        "\n",
        "$$\n",
        "P(160 \\leq X \\leq 180) = 0.8413 - 0.1587 = 0.6826\n",
        "$$\n",
        "\n",
        "Por lo tanto, el porcentaje de estudiantes que miden entre 160 cm y 180 cm es **68.26%**."
      ],
      "metadata": {
        "id": "6A4u9Y1YsD9D"
      }
    },
    {
      "cell_type": "code",
      "source": [
        "\n",
        "import numpy as np\n",
        "import scipy.stats as stats\n",
        "import matplotlib.pyplot as plt\n",
        "\n",
        "# Datos del problema\n",
        "mu = 170  # Media en cm\n",
        "sigma = 10  # Desviación estándar en cm\n",
        "\n",
        "# 1. Cálculo de la probabilidad de que un estudiante mida más de 180 cm\n",
        "z_180 = (180 - mu) / sigma\n",
        "prob_mas_180 = 1 - stats.norm.cdf(z_180)\n",
        "print(f\"Probabilidad de que un estudiante mida más de 180 cm: {prob_mas_180:.4f} ({prob_mas_180*100:.2f}%)\")\n",
        "\n",
        "# 2. Cálculo del porcentaje de estudiantes que miden entre 160 cm y 180 cm\n",
        "z_160 = (160 - mu) / sigma\n",
        "prob_entre_160_180 = stats.norm.cdf(z_180) - stats.norm.cdf(z_160)\n",
        "print(f\"Porcentaje de estudiantes que miden entre 160 cm y 180 cm: {prob_entre_160_180:.4f} ({prob_entre_160_180*100:.2f}%)\")\n",
        "\n",
        "# Generación de la gráfica\n",
        "x = np.linspace(mu - 4*sigma, mu + 4*sigma, 1000)\n",
        "y = stats.norm.pdf(x, mu, sigma)\n",
        "\n",
        "plt.figure(figsize=(10, 6))\n",
        "\n",
        "# Graficar la distribución normal\n",
        "plt.plot(x, y, color='blue', label='Distribución Normal')\n",
        "\n",
        "# Sombrear la región para la probabilidad de más de 180 cm\n",
        "plt.fill_between(x, y, where=(x > 180), color='orange', alpha=0.5, label='Más de 180 cm')\n",
        "\n",
        "# Sombrear la región para la probabilidad entre 160 cm y 180 cm\n",
        "plt.fill_between(x, y, where=((x >= 160) & (x <= 180)), color='green', alpha=0.5, label='Entre 160 cm y 180 cm')\n",
        "\n",
        "plt.title('Distribución Normal de la Altura de los Estudiantes')\n",
        "plt.xlabel('Altura (cm)')\n",
        "plt.ylabel('Densidad de Probabilidad')\n",
        "plt.legend()\n",
        "plt.grid(True)\n",
        "plt.show()"
      ],
      "metadata": {
        "id": "vewevbgNtlQf"
      },
      "execution_count": null,
      "outputs": []
    }
  ]
}